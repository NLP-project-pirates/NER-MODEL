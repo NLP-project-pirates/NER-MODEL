{
 "cells": [
  {
   "cell_type": "code",
   "execution_count": 1,
   "id": "c9fac480-2d3d-4607-8f46-206a2af88e2d",
   "metadata": {},
   "outputs": [
    {
     "name": "stdout",
     "output_type": "stream",
     "text": [
      "Requirement already satisfied: kaggle in c:\\users\\akshitha\\appdata\\local\\programs\\python\\python311\\lib\\site-packages (1.5.16)\n",
      "Requirement already satisfied: six>=1.10 in c:\\users\\akshitha\\appdata\\local\\programs\\python\\python311\\lib\\site-packages (from kaggle) (1.16.0)\n",
      "Requirement already satisfied: certifi in c:\\users\\akshitha\\appdata\\local\\programs\\python\\python311\\lib\\site-packages (from kaggle) (2023.7.22)\n",
      "Requirement already satisfied: python-dateutil in c:\\users\\akshitha\\appdata\\local\\programs\\python\\python311\\lib\\site-packages (from kaggle) (2.8.2)\n",
      "Requirement already satisfied: requests in c:\\users\\akshitha\\appdata\\local\\programs\\python\\python311\\lib\\site-packages (from kaggle) (2.31.0)\n",
      "Requirement already satisfied: tqdm in c:\\users\\akshitha\\appdata\\local\\programs\\python\\python311\\lib\\site-packages (from kaggle) (4.66.1)\n",
      "Requirement already satisfied: python-slugify in c:\\users\\akshitha\\appdata\\local\\programs\\python\\python311\\lib\\site-packages (from kaggle) (8.0.1)\n",
      "Requirement already satisfied: urllib3 in c:\\users\\akshitha\\appdata\\local\\programs\\python\\python311\\lib\\site-packages (from kaggle) (2.0.6)\n",
      "Requirement already satisfied: bleach in c:\\users\\akshitha\\appdata\\local\\programs\\python\\python311\\lib\\site-packages (from kaggle) (6.1.0)\n",
      "Requirement already satisfied: webencodings in c:\\users\\akshitha\\appdata\\local\\programs\\python\\python311\\lib\\site-packages (from bleach->kaggle) (0.5.1)\n",
      "Requirement already satisfied: text-unidecode>=1.3 in c:\\users\\akshitha\\appdata\\local\\programs\\python\\python311\\lib\\site-packages (from python-slugify->kaggle) (1.3)\n",
      "Requirement already satisfied: charset-normalizer<4,>=2 in c:\\users\\akshitha\\appdata\\local\\programs\\python\\python311\\lib\\site-packages (from requests->kaggle) (3.3.0)\n",
      "Requirement already satisfied: idna<4,>=2.5 in c:\\users\\akshitha\\appdata\\local\\programs\\python\\python311\\lib\\site-packages (from requests->kaggle) (3.4)\n",
      "Requirement already satisfied: colorama in c:\\users\\akshitha\\appdata\\local\\programs\\python\\python311\\lib\\site-packages (from tqdm->kaggle) (0.4.6)\n",
      "Note: you may need to restart the kernel to use updated packages.\n"
     ]
    },
    {
     "name": "stderr",
     "output_type": "stream",
     "text": [
      "\n",
      "[notice] A new release of pip is available: 23.2.1 -> 23.3.1\n",
      "[notice] To update, run: python.exe -m pip install --upgrade pip\n"
     ]
    }
   ],
   "source": [
    "pip install kaggle"
   ]
  },
  {
   "cell_type": "code",
   "execution_count": 2,
   "id": "2b4ddfee-5194-48f4-8d49-9136f9740c66",
   "metadata": {},
   "outputs": [],
   "source": [
    "import os\n",
    "\n",
    "# Set Kaggle environment variables without specifying the file path\n",
    "os.environ[\"KAGGLE_CONFIG_DIR\"] = r\"C:\\Users\\Akshitha\\OneDrive\\NLP\""
   ]
  },
  {
   "cell_type": "code",
   "execution_count": 3,
   "id": "7f86fcc2-c809-4e31-9114-90721a3fa759",
   "metadata": {},
   "outputs": [
    {
     "name": "stdout",
     "output_type": "stream",
     "text": [
      "ref                                                              title                                              size  lastUpdated          downloadCount  voteCount  usabilityRating  \n",
      "---------------------------------------------------------------  ------------------------------------------------  -----  -------------------  -------------  ---------  ---------------  \n",
      "carlmcbrideellis/llm-7-prompt-training-dataset                   LLM: 7 prompt training dataset                     41MB  2023-11-15 07:32:56            997         86  1.0              \n",
      "thedrcat/daigt-v2-train-dataset                                  DAIGT V2 Train Dataset                             29MB  2023-11-16 01:38:36            489         73  1.0              \n",
      "muhammadbinimran/housing-price-prediction-data                   Housing Price Prediction Data                     763KB  2023-11-21 17:56:32           1042         23  1.0              \n",
      "thedrcat/daigt-proper-train-dataset                              DAIGT Proper Train Dataset                        119MB  2023-11-05 14:03:25           1059        114  1.0              \n",
      "miquelneck/worlds-spotify-top-50-playlist-musicality-data        World's Spotify TOP-50 playlist musicality data   171KB  2023-11-16 11:14:23           1358         39  1.0              \n",
      "maso0dahmed/netflix-movies-and-shows                             Netflix Movies and Shows                          172KB  2023-11-19 18:26:53           1377         34  1.0              \n",
      "joebeachcapital/30000-spotify-songs                              30000 Spotify Songs                                 3MB  2023-11-01 06:06:43           6285        157  1.0              \n",
      "ddosad/auto-sales-data                                           Automobile Sales data                              79KB  2023-11-18 12:36:41           1479         40  1.0              \n",
      "nelgiriyewithana/world-educational-data                          World Educational Data                              9KB  2023-11-04 06:10:17           5271        103  1.0              \n",
      "iamsouravbanerjee/customer-shopping-trends-dataset               Customer Shopping Trends Dataset                  146KB  2023-10-05 06:45:37          31906        585  1.0              \n",
      "alejopaullier/daigt-external-dataset                             DAIGT | External Dataset                            3MB  2023-10-31 19:11:35            810        112  0.7647059        \n",
      "b'prasad22/healthcare-dataset                                      \\xf0\\x9f\\xa9\\xbaHealthcare Dataset \\xf0\\x9f\\xa7\\xaa                             483KB  2023-10-31 11:30:58           5052         82  1.0              '\n",
      "dillonmyrick/high-school-student-performance-and-demographics    High School Student Performance & Demographics     24KB  2023-11-10 01:33:35           2603         41  1.0              \n",
      "willianoliveiragibin/mortality-rate-infant-per-1000-live-births  Mortality rate, infant (per 1,000 live births)     18KB  2023-11-15 20:42:14            695         22  1.0              \n",
      "ethankeyes/nba-all-star-players-and-stats-1980-2022              NBA All Star Players and Stats 1980-2022           46KB  2023-11-16 21:48:27            671         22  1.0              \n",
      "ohinhaque/synthetic-cancer-prediction-dataset-for-research       Synthetic Cancer Prediction Dataset for Research   25KB  2023-11-09 12:35:13            768         22  1.0              \n",
      "b'jacksondivakarr/online-shopping-dataset                          \\xf0\\x9f\\x9b\\x92 Online Shopping Dataset \\xf0\\x9f\\x93\\x8a\\xf0\\x9f\\x93\\x89\\xf0\\x9f\\x93\\x88                       5MB  2023-11-12 12:35:58           2390         51  1.0              '\n",
      "everydaycodings/job-opportunity-dataset                          Job Opportunities Dataset                          95KB  2023-11-20 08:33:14            894         26  1.0              \n",
      "aravindpcoder/obesity-or-cvd-risk-classifyregressorcluster       Obesity or CVD risk (Classify/Regressor/Cluster)   58KB  2023-11-20 12:05:27            678         22  1.0              \n",
      "surajjoshi26/google-stock-price2004-2023                         Google Stock Price(2004-2023)                     162KB  2023-11-11 04:46:49            692         27  0.88235295       \n"
     ]
    }
   ],
   "source": [
    "!kaggle datasets list"
   ]
  },
  {
   "cell_type": "code",
   "execution_count": 4,
   "id": "f0d4214f-8b40-4c24-8bc5-26289ad6d86b",
   "metadata": {},
   "outputs": [
    {
     "name": "stdout",
     "output_type": "stream",
     "text": [
      "Downloading medical-ner.zip to /content\n",
      "\n"
     ]
    },
    {
     "name": "stderr",
     "output_type": "stream",
     "text": [
      "\n",
      "  0%|          | 0.00/26.2k [00:00<?, ?B/s]\n",
      "100%|##########| 26.2k/26.2k [00:00<00:00, 510kB/s]\n"
     ]
    }
   ],
   "source": [
    "# Download the dataset using the Kaggle API\n",
    "!kaggle datasets download finalepoch/medical-ner -p /content"
   ]
  },
  {
   "cell_type": "code",
   "execution_count": 5,
   "id": "359ff7b0-ddd4-4be4-925f-fc354f15ada7",
   "metadata": {},
   "outputs": [],
   "source": [
    "from kaggle.api.kaggle_api_extended import KaggleApi\n",
    "\n",
    "# Instantiate the Kaggle API\n",
    "api = KaggleApi()\n",
    "api.authenticate()  # Make sure you have authenticated\n",
    "\n",
    "# Download the dataset\n",
    "api.dataset_download_files('finalepoch/medical-ner', path='/content', unzip=True)"
   ]
  },
  {
   "cell_type": "code",
   "execution_count": 6,
   "id": "78fba5b7-f753-44c8-a362-319efdd3b681",
   "metadata": {},
   "outputs": [
    {
     "data": {
      "text/plain": [
       "['Corona2.json', 'medical-ner.zip']"
      ]
     },
     "execution_count": 6,
     "metadata": {},
     "output_type": "execute_result"
    }
   ],
   "source": [
    "import os\n",
    "\n",
    "# Specify the directory path\n",
    "directory_path = \"/content\"\n",
    "\n",
    "# List the contents of the directory\n",
    "contents = os.listdir(directory_path)\n",
    "contents\n"
   ]
  },
  {
   "cell_type": "code",
   "execution_count": 7,
   "id": "a0a8e146-8aa2-4c07-99f2-ca6aa14910bc",
   "metadata": {},
   "outputs": [],
   "source": [
    "import zipfile\n",
    "\n",
    "# Specify the path to the downloaded zip file\n",
    "zip_file_path = \"/content/medical-ner.zip\"\n",
    "\n",
    "# Specify the extraction directory\n",
    "extraction_path = \"/content/medical-ner\"\n",
    "\n",
    "# Unzip the file\n",
    "with zipfile.ZipFile(zip_file_path, 'r') as zip_ref:\n",
    "    zip_ref.extractall(extraction_path)"
   ]
  },
  {
   "cell_type": "code",
   "execution_count": 8,
   "id": "ed40f09b-deb9-48b9-92d2-d7f6988373ff",
   "metadata": {},
   "outputs": [
    {
     "data": {
      "text/plain": [
       "['Corona2.json', 'medical-ner', 'medical-ner.zip']"
      ]
     },
     "execution_count": 8,
     "metadata": {},
     "output_type": "execute_result"
    }
   ],
   "source": [
    "import os\n",
    "\n",
    "# Specify the directory path\n",
    "directory_path = \"/content\"\n",
    "\n",
    "# List the contents of the directory\n",
    "contents = os.listdir(directory_path)\n",
    "contents"
   ]
  },
  {
   "cell_type": "code",
   "execution_count": 9,
   "id": "30c5ef5b-1e83-4f0c-afde-3df9e5b6df47",
   "metadata": {},
   "outputs": [],
   "source": [
    "import json\n",
    "#https://www.kaggle.com/datasets/finalepoch/medical-ner\n",
    "with open('/content/Corona2.json', 'r') as f:\n",
    "    data = json.load(f)"
   ]
  },
  {
   "cell_type": "code",
   "execution_count": 10,
   "id": "878a78a6-cefb-4af7-baae-ec8d9a4031c1",
   "metadata": {},
   "outputs": [
    {
     "data": {
      "text/plain": [
       "{'id': '18c2f619-f102-452f-ab81-d26f7e283ffe',\n",
       " 'content': \"While bismuth compounds (Pepto-Bismol) decreased the number of bowel movements in those with travelers' diarrhea, they do not decrease the length of illness.[91] Anti-motility agents like loperamide are also effective at reducing the number of stools but not the duration of disease.[8] These agents should be used only if bloody diarrhea is not present.[92]\\n\\nDiosmectite, a natural aluminomagnesium silicate clay, is effective in alleviating symptoms of acute diarrhea in children,[93] and also has some effects in chronic functional diarrhea, radiation-induced diarrhea, and chemotherapy-induced diarrhea.[45] Another absorbent agent used for the treatment of mild diarrhea is kaopectate.\\n\\nRacecadotril an antisecretory medication may be used to treat diarrhea in children and adults.[86] It has better tolerability than loperamide, as it causes less constipation and flatulence.[94]\",\n",
       " 'metadata': {},\n",
       " 'annotations': [{'id': '0825a1bf-6a6e-4fa2-be77-8d104701eaed',\n",
       "   'tag_id': 'c06bd022-6ded-44a5-8d90-f17685bb85a1',\n",
       "   'end': 371,\n",
       "   'start': 360,\n",
       "   'example_id': '18c2f619-f102-452f-ab81-d26f7e283ffe',\n",
       "   'tag_name': 'Medicine',\n",
       "   'value': 'Diosmectite',\n",
       "   'correct': None,\n",
       "   'human_annotations': [{'timestamp': '2020-03-21T00:24:32.098000Z',\n",
       "     'annotator_id': 1,\n",
       "     'tagged_token_id': '0825a1bf-6a6e-4fa2-be77-8d104701eaed',\n",
       "     'name': 'Ashpat123',\n",
       "     'reason': 'exploration'}],\n",
       "   'model_annotations': []},\n",
       "  {'id': '145f62b1-bbf5-42f1-8ad5-9c7e08337bf0',\n",
       "   'tag_id': 'c06bd022-6ded-44a5-8d90-f17685bb85a1',\n",
       "   'end': 408,\n",
       "   'start': 383,\n",
       "   'example_id': '18c2f619-f102-452f-ab81-d26f7e283ffe',\n",
       "   'tag_name': 'Medicine',\n",
       "   'value': 'aluminomagnesium silicate',\n",
       "   'correct': None,\n",
       "   'human_annotations': [{'timestamp': '2020-03-21T00:24:43.692000Z',\n",
       "     'annotator_id': 1,\n",
       "     'tagged_token_id': '145f62b1-bbf5-42f1-8ad5-9c7e08337bf0',\n",
       "     'name': 'Ashpat123',\n",
       "     'reason': 'exploration'}],\n",
       "   'model_annotations': []},\n",
       "  {'id': '243efeb2-723f-4be4-933c-fbbf7e0f9903',\n",
       "   'tag_id': '03eb3e50-d4d8-4261-a60b-fa5aee5deb4a',\n",
       "   'end': 112,\n",
       "   'start': 104,\n",
       "   'example_id': '18c2f619-f102-452f-ab81-d26f7e283ffe',\n",
       "   'tag_name': 'MedicalCondition',\n",
       "   'value': 'diarrhea',\n",
       "   'correct': None,\n",
       "   'human_annotations': [{'timestamp': '2020-03-21T00:24:09.423000Z',\n",
       "     'annotator_id': 1,\n",
       "     'tagged_token_id': '243efeb2-723f-4be4-933c-fbbf7e0f9903',\n",
       "     'name': 'Ashpat123',\n",
       "     'reason': 'exploration'}],\n",
       "   'model_annotations': []},\n",
       "  {'id': '281f49d3-879a-4409-b09e-4cfae019af16',\n",
       "   'tag_id': 'c06bd022-6ded-44a5-8d90-f17685bb85a1',\n",
       "   'end': 689,\n",
       "   'start': 679,\n",
       "   'example_id': '18c2f619-f102-452f-ab81-d26f7e283ffe',\n",
       "   'tag_name': 'Medicine',\n",
       "   'value': 'kaopectate',\n",
       "   'correct': None,\n",
       "   'human_annotations': [{'timestamp': '2020-03-21T00:25:38.366000Z',\n",
       "     'annotator_id': 1,\n",
       "     'tagged_token_id': '281f49d3-879a-4409-b09e-4cfae019af16',\n",
       "     'name': 'Ashpat123',\n",
       "     'reason': 'exploration'}],\n",
       "   'model_annotations': []},\n",
       "  {'id': '32fdf9e7-63f7-442a-8e25-f08ea4ad94d5',\n",
       "   'tag_id': 'c06bd022-6ded-44a5-8d90-f17685bb85a1',\n",
       "   'end': 23,\n",
       "   'start': 6,\n",
       "   'example_id': '18c2f619-f102-452f-ab81-d26f7e283ffe',\n",
       "   'tag_name': 'Medicine',\n",
       "   'value': 'bismuth compounds',\n",
       "   'correct': None,\n",
       "   'human_annotations': [{'timestamp': '2020-03-21T00:23:46.721000Z',\n",
       "     'annotator_id': 1,\n",
       "     'tagged_token_id': '32fdf9e7-63f7-442a-8e25-f08ea4ad94d5',\n",
       "     'name': 'Ashpat123',\n",
       "     'reason': 'exploration'}],\n",
       "   'model_annotations': []},\n",
       "  {'id': '392094d2-febf-4074-a2ca-4c0082f4e5b8',\n",
       "   'tag_id': 'c06bd022-6ded-44a5-8d90-f17685bb85a1',\n",
       "   'end': 37,\n",
       "   'start': 25,\n",
       "   'example_id': '18c2f619-f102-452f-ab81-d26f7e283ffe',\n",
       "   'tag_name': 'Medicine',\n",
       "   'value': 'Pepto-Bismol',\n",
       "   'correct': None,\n",
       "   'human_annotations': [{'timestamp': '2020-03-21T00:23:58.861000Z',\n",
       "     'annotator_id': 1,\n",
       "     'tagged_token_id': '392094d2-febf-4074-a2ca-4c0082f4e5b8',\n",
       "     'name': 'Ashpat123',\n",
       "     'reason': 'exploration'}],\n",
       "   'model_annotations': []},\n",
       "  {'id': '450b8c30-cf2e-4774-96d9-58b4160bea38',\n",
       "   'tag_id': '03eb3e50-d4d8-4261-a60b-fa5aee5deb4a',\n",
       "   'end': 470,\n",
       "   'start': 461,\n",
       "   'example_id': '18c2f619-f102-452f-ab81-d26f7e283ffe',\n",
       "   'tag_name': 'MedicalCondition',\n",
       "   'value': 'diarrhea ',\n",
       "   'correct': None,\n",
       "   'human_annotations': [],\n",
       "   'model_annotations': []},\n",
       "  {'id': '6b73f683-7130-4e16-bcc2-e3cc8cf89f4d',\n",
       "   'tag_id': 'c06bd022-6ded-44a5-8d90-f17685bb85a1',\n",
       "   'end': 589,\n",
       "   'start': 577,\n",
       "   'example_id': '18c2f619-f102-452f-ab81-d26f7e283ffe',\n",
       "   'tag_name': 'Medicine',\n",
       "   'value': 'chemotherapy',\n",
       "   'correct': None,\n",
       "   'human_annotations': [{'timestamp': '2020-03-21T00:25:24.179000Z',\n",
       "     'annotator_id': 1,\n",
       "     'tagged_token_id': '6b73f683-7130-4e16-bcc2-e3cc8cf89f4d',\n",
       "     'name': 'Ashpat123',\n",
       "     'reason': 'exploration'}],\n",
       "   'model_annotations': []},\n",
       "  {'id': '74574b7f-d535-48e1-8651-2708adcfe453',\n",
       "   'tag_id': '03eb3e50-d4d8-4261-a60b-fa5aee5deb4a',\n",
       "   'end': 865,\n",
       "   'start': 853,\n",
       "   'example_id': '18c2f619-f102-452f-ab81-d26f7e283ffe',\n",
       "   'tag_name': 'MedicalCondition',\n",
       "   'value': 'constipation',\n",
       "   'correct': None,\n",
       "   'human_annotations': [{'timestamp': '2020-03-21T00:26:31.676000Z',\n",
       "     'annotator_id': 1,\n",
       "     'tagged_token_id': '74574b7f-d535-48e1-8651-2708adcfe453',\n",
       "     'name': 'Ashpat123',\n",
       "     'reason': 'exploration'}],\n",
       "   'model_annotations': []},\n",
       "  {'id': '7572ab8e-ae99-400c-b4ab-ed46fbc9f97e',\n",
       "   'tag_id': 'c06bd022-6ded-44a5-8d90-f17685bb85a1',\n",
       "   'end': 198,\n",
       "   'start': 188,\n",
       "   'example_id': '18c2f619-f102-452f-ab81-d26f7e283ffe',\n",
       "   'tag_name': 'Medicine',\n",
       "   'value': 'loperamide',\n",
       "   'correct': None,\n",
       "   'human_annotations': [{'timestamp': '2020-03-21T00:24:17.680000Z',\n",
       "     'annotator_id': 1,\n",
       "     'tagged_token_id': '7572ab8e-ae99-400c-b4ab-ed46fbc9f97e',\n",
       "     'name': 'Ashpat123',\n",
       "     'reason': 'exploration'}],\n",
       "   'model_annotations': []},\n",
       "  {'id': '800e6c6c-0bfb-4819-a25a-34f759753457',\n",
       "   'tag_id': '03eb3e50-d4d8-4261-a60b-fa5aee5deb4a',\n",
       "   'end': 762,\n",
       "   'start': 754,\n",
       "   'example_id': '18c2f619-f102-452f-ab81-d26f7e283ffe',\n",
       "   'tag_name': 'MedicalCondition',\n",
       "   'value': 'diarrhea',\n",
       "   'correct': None,\n",
       "   'human_annotations': [{'timestamp': '2020-03-21T00:26:07.368000Z',\n",
       "     'annotator_id': 1,\n",
       "     'tagged_token_id': '800e6c6c-0bfb-4819-a25a-34f759753457',\n",
       "     'name': 'Ashpat123',\n",
       "     'reason': 'exploration'}],\n",
       "   'model_annotations': []},\n",
       "  {'id': '8214556a-7584-4d9b-86cd-5e09137ad904',\n",
       "   'tag_id': '03eb3e50-d4d8-4261-a60b-fa5aee5deb4a',\n",
       "   'end': 880,\n",
       "   'start': 870,\n",
       "   'example_id': '18c2f619-f102-452f-ab81-d26f7e283ffe',\n",
       "   'tag_name': 'MedicalCondition',\n",
       "   'value': 'flatulence',\n",
       "   'correct': None,\n",
       "   'human_annotations': [{'timestamp': '2020-03-21T00:26:41.322000Z',\n",
       "     'annotator_id': 1,\n",
       "     'tagged_token_id': '8214556a-7584-4d9b-86cd-5e09137ad904',\n",
       "     'name': 'Ashpat123',\n",
       "     'reason': 'exploration'}],\n",
       "   'model_annotations': []},\n",
       "  {'id': '98968e14-6756-4174-9d3d-7abd58b3aa34',\n",
       "   'tag_id': 'c06bd022-6ded-44a5-8d90-f17685bb85a1',\n",
       "   'end': 833,\n",
       "   'start': 823,\n",
       "   'example_id': '18c2f619-f102-452f-ab81-d26f7e283ffe',\n",
       "   'tag_name': 'Medicine',\n",
       "   'value': 'loperamide',\n",
       "   'correct': None,\n",
       "   'human_annotations': [{'timestamp': '2020-03-21T00:26:12.759000Z',\n",
       "     'annotator_id': 1,\n",
       "     'tagged_token_id': '98968e14-6756-4174-9d3d-7abd58b3aa34',\n",
       "     'name': 'Ashpat123',\n",
       "     'reason': 'exploration'}],\n",
       "   'model_annotations': []},\n",
       "  {'id': 'a0a03c7b-cfad-41ee-9f5c-f8a802475994',\n",
       "   'tag_id': '03eb3e50-d4d8-4261-a60b-fa5aee5deb4a',\n",
       "   'end': 853,\n",
       "   'start': 852,\n",
       "   'example_id': '18c2f619-f102-452f-ab81-d26f7e283ffe',\n",
       "   'tag_name': 'MedicalCondition',\n",
       "   'value': ' ',\n",
       "   'correct': None,\n",
       "   'human_annotations': [],\n",
       "   'model_annotations': []},\n",
       "  {'id': 'bfbddfd4-38aa-43a7-9366-24c95829ac8c',\n",
       "   'tag_id': '03eb3e50-d4d8-4261-a60b-fa5aee5deb4a',\n",
       "   'end': 469,\n",
       "   'start': 461,\n",
       "   'example_id': '18c2f619-f102-452f-ab81-d26f7e283ffe',\n",
       "   'tag_name': 'MedicalCondition',\n",
       "   'value': 'diarrhea',\n",
       "   'correct': None,\n",
       "   'human_annotations': [{'timestamp': '2020-03-21T00:25:06.921000Z',\n",
       "     'annotator_id': 1,\n",
       "     'tagged_token_id': 'bfbddfd4-38aa-43a7-9366-24c95829ac8c',\n",
       "     'name': 'Ashpat123',\n",
       "     'reason': 'exploration'}],\n",
       "   'model_annotations': []},\n",
       "  {'id': 'd7d68c18-0d8e-4547-a2fa-81fdcaf3080e',\n",
       "   'tag_id': '03eb3e50-d4d8-4261-a60b-fa5aee5deb4a',\n",
       "   'end': 543,\n",
       "   'start': 535,\n",
       "   'example_id': '18c2f619-f102-452f-ab81-d26f7e283ffe',\n",
       "   'tag_name': 'MedicalCondition',\n",
       "   'value': 'diarrhea',\n",
       "   'correct': None,\n",
       "   'human_annotations': [{'timestamp': '2020-03-21T00:25:12.203000Z',\n",
       "     'annotator_id': 1,\n",
       "     'tagged_token_id': 'd7d68c18-0d8e-4547-a2fa-81fdcaf3080e',\n",
       "     'name': 'Ashpat123',\n",
       "     'reason': 'exploration'}],\n",
       "   'model_annotations': []},\n",
       "  {'id': 'ee956220-42a4-4a91-b9f0-75019c4f5dd9',\n",
       "   'tag_id': 'c06bd022-6ded-44a5-8d90-f17685bb85a1',\n",
       "   'end': 704,\n",
       "   'start': 692,\n",
       "   'example_id': '18c2f619-f102-452f-ab81-d26f7e283ffe',\n",
       "   'tag_name': 'Medicine',\n",
       "   'value': 'Racecadotril',\n",
       "   'correct': None,\n",
       "   'human_annotations': [{'timestamp': '2020-03-21T00:25:56.503000Z',\n",
       "     'annotator_id': 1,\n",
       "     'tagged_token_id': 'ee956220-42a4-4a91-b9f0-75019c4f5dd9',\n",
       "     'name': 'Ashpat123',\n",
       "     'reason': 'exploration'}],\n",
       "   'model_annotations': []},\n",
       "  {'id': 'f04a6b7e-8904-405c-9301-e4543238b7a5',\n",
       "   'tag_id': '03eb3e50-d4d8-4261-a60b-fa5aee5deb4a',\n",
       "   'end': 571,\n",
       "   'start': 563,\n",
       "   'example_id': '18c2f619-f102-452f-ab81-d26f7e283ffe',\n",
       "   'tag_name': 'MedicalCondition',\n",
       "   'value': 'diarrhea',\n",
       "   'correct': None,\n",
       "   'human_annotations': [{'timestamp': '2020-03-21T00:25:18.043000Z',\n",
       "     'annotator_id': 1,\n",
       "     'tagged_token_id': 'f04a6b7e-8904-405c-9301-e4543238b7a5',\n",
       "     'name': 'Ashpat123',\n",
       "     'reason': 'exploration'}],\n",
       "   'model_annotations': []}],\n",
       " 'classifications': []}"
      ]
     },
     "execution_count": 10,
     "metadata": {},
     "output_type": "execute_result"
    }
   ],
   "source": [
    "data['examples'][0]"
   ]
  },
  {
   "cell_type": "code",
   "execution_count": 11,
   "id": "769ea36f-88ac-47e7-9954-d66adf4128f5",
   "metadata": {},
   "outputs": [
    {
     "data": {
      "text/plain": [
       "dict_keys(['id', 'content', 'metadata', 'annotations', 'classifications'])"
      ]
     },
     "execution_count": 11,
     "metadata": {},
     "output_type": "execute_result"
    }
   ],
   "source": [
    "data['examples'][0].keys()"
   ]
  },
  {
   "cell_type": "code",
   "execution_count": 12,
   "id": "24b917c2-61d2-45cf-b363-bddaf97996b3",
   "metadata": {},
   "outputs": [
    {
     "data": {
      "text/plain": [
       "\"While bismuth compounds (Pepto-Bismol) decreased the number of bowel movements in those with travelers' diarrhea, they do not decrease the length of illness.[91] Anti-motility agents like loperamide are also effective at reducing the number of stools but not the duration of disease.[8] These agents should be used only if bloody diarrhea is not present.[92]\\n\\nDiosmectite, a natural aluminomagnesium silicate clay, is effective in alleviating symptoms of acute diarrhea in children,[93] and also has some effects in chronic functional diarrhea, radiation-induced diarrhea, and chemotherapy-induced diarrhea.[45] Another absorbent agent used for the treatment of mild diarrhea is kaopectate.\\n\\nRacecadotril an antisecretory medication may be used to treat diarrhea in children and adults.[86] It has better tolerability than loperamide, as it causes less constipation and flatulence.[94]\""
      ]
     },
     "execution_count": 12,
     "metadata": {},
     "output_type": "execute_result"
    }
   ],
   "source": [
    "data['examples'][0]['content']"
   ]
  },
  {
   "cell_type": "code",
   "execution_count": 13,
   "id": "2b2dbd33-5ef9-43e6-9841-41e35a1523e7",
   "metadata": {},
   "outputs": [
    {
     "data": {
      "text/plain": [
       "{'id': '0825a1bf-6a6e-4fa2-be77-8d104701eaed',\n",
       " 'tag_id': 'c06bd022-6ded-44a5-8d90-f17685bb85a1',\n",
       " 'end': 371,\n",
       " 'start': 360,\n",
       " 'example_id': '18c2f619-f102-452f-ab81-d26f7e283ffe',\n",
       " 'tag_name': 'Medicine',\n",
       " 'value': 'Diosmectite',\n",
       " 'correct': None,\n",
       " 'human_annotations': [{'timestamp': '2020-03-21T00:24:32.098000Z',\n",
       "   'annotator_id': 1,\n",
       "   'tagged_token_id': '0825a1bf-6a6e-4fa2-be77-8d104701eaed',\n",
       "   'name': 'Ashpat123',\n",
       "   'reason': 'exploration'}],\n",
       " 'model_annotations': []}"
      ]
     },
     "execution_count": 13,
     "metadata": {},
     "output_type": "execute_result"
    }
   ],
   "source": [
    "data['examples'][0]['annotations'][0]"
   ]
  },
  {
   "cell_type": "code",
   "execution_count": 14,
   "id": "e0c90958-974b-4a53-8cfa-c38470526037",
   "metadata": {},
   "outputs": [
    {
     "name": "stdout",
     "output_type": "stream",
     "text": [
      "{'text': \"While bismuth compounds (Pepto-Bismol) decreased the number of bowel movements in those with travelers' diarrhea, they do not decrease the length of illness.[91] Anti-motility agents like loperamide are also effective at reducing the number of stools but not the duration of disease.[8] These agents should be used only if bloody diarrhea is not present.[92]\\n\\nDiosmectite, a natural aluminomagnesium silicate clay, is effective in alleviating symptoms of acute diarrhea in children,[93] and also has some effects in chronic functional diarrhea, radiation-induced diarrhea, and chemotherapy-induced diarrhea.[45] Another absorbent agent used for the treatment of mild diarrhea is kaopectate.\\n\\nRacecadotril an antisecretory medication may be used to treat diarrhea in children and adults.[86] It has better tolerability than loperamide, as it causes less constipation and flatulence.[94]\", 'entities': [(360, 371, 'MEDICINE'), (383, 408, 'MEDICINE'), (104, 112, 'MEDICALCONDITION'), (679, 689, 'MEDICINE'), (6, 23, 'MEDICINE'), (25, 37, 'MEDICINE'), (461, 470, 'MEDICALCONDITION'), (577, 589, 'MEDICINE'), (853, 865, 'MEDICALCONDITION'), (188, 198, 'MEDICINE'), (754, 762, 'MEDICALCONDITION'), (870, 880, 'MEDICALCONDITION'), (823, 833, 'MEDICINE'), (852, 853, 'MEDICALCONDITION'), (461, 469, 'MEDICALCONDITION'), (535, 543, 'MEDICALCONDITION'), (692, 704, 'MEDICINE'), (563, 571, 'MEDICALCONDITION')]}\n"
     ]
    }
   ],
   "source": [
    "# Assuming 'data' is your dictionary\n",
    "training_data = []\n",
    "\n",
    "for example in data['examples']:\n",
    "    temp_dict = {}\n",
    "    temp_dict['text'] = example['content']\n",
    "    temp_dict['entities'] = []\n",
    "\n",
    "    for annotation in example['annotations']:\n",
    "        start = annotation.get('start')\n",
    "        end = annotation.get('end')\n",
    "        \n",
    "        # Access 'tag name' directly since it's specified in the dictionary\n",
    "        label = annotation['tag_name'].upper()\n",
    "\n",
    "        temp_dict['entities'].append((start, end, label))\n",
    "\n",
    "    training_data.append(temp_dict)\n",
    "\n",
    "# Print the first training data entry for verification\n",
    "print(training_data[0])"
   ]
  },
  {
   "cell_type": "code",
   "execution_count": 15,
   "id": "d420f362-499e-4030-964e-8df564c5c6dc",
   "metadata": {},
   "outputs": [
    {
     "data": {
      "text/plain": [
       "\"While bismuth compounds (Pepto-Bismol) decreased the number of bowel movements in those with travelers' diarrhea, they do not decrease the length of illness.[91] Anti-motility agents like loperamide are also effective at reducing the number of stools but not the duration of disease.[8] These agents should be used only if bloody diarrhea is not present.[92]\\n\\nDiosmectite, a natural aluminomagnesium silicate clay, is effective in alleviating symptoms of acute diarrhea in children,[93] and also has some effects in chronic functional diarrhea, radiation-induced diarrhea, and chemotherapy-induced diarrhea.[45] Another absorbent agent used for the treatment of mild diarrhea is kaopectate.\\n\\nRacecadotril an antisecretory medication may be used to treat diarrhea in children and adults.[86] It has better tolerability than loperamide, as it causes less constipation and flatulence.[94]\""
      ]
     },
     "execution_count": 15,
     "metadata": {},
     "output_type": "execute_result"
    }
   ],
   "source": [
    "training_data[0]['text']"
   ]
  },
  {
   "cell_type": "code",
   "execution_count": 16,
   "id": "9e01eb79-b9ce-403d-812e-8066690e2a0f",
   "metadata": {},
   "outputs": [
    {
     "data": {
      "text/plain": [
       "[(360, 371, 'MEDICINE'),\n",
       " (383, 408, 'MEDICINE'),\n",
       " (104, 112, 'MEDICALCONDITION'),\n",
       " (679, 689, 'MEDICINE'),\n",
       " (6, 23, 'MEDICINE'),\n",
       " (25, 37, 'MEDICINE'),\n",
       " (461, 470, 'MEDICALCONDITION'),\n",
       " (577, 589, 'MEDICINE'),\n",
       " (853, 865, 'MEDICALCONDITION'),\n",
       " (188, 198, 'MEDICINE'),\n",
       " (754, 762, 'MEDICALCONDITION'),\n",
       " (870, 880, 'MEDICALCONDITION'),\n",
       " (823, 833, 'MEDICINE'),\n",
       " (852, 853, 'MEDICALCONDITION'),\n",
       " (461, 469, 'MEDICALCONDITION'),\n",
       " (535, 543, 'MEDICALCONDITION'),\n",
       " (692, 704, 'MEDICINE'),\n",
       " (563, 571, 'MEDICALCONDITION')]"
      ]
     },
     "execution_count": 16,
     "metadata": {},
     "output_type": "execute_result"
    }
   ],
   "source": [
    "training_data[0]['entities']"
   ]
  },
  {
   "cell_type": "code",
   "execution_count": 17,
   "id": "96a67011-6dcd-4a2f-abc6-109e3bcb398e",
   "metadata": {},
   "outputs": [
    {
     "data": {
      "text/plain": [
       "'Diosmectite'"
      ]
     },
     "execution_count": 17,
     "metadata": {},
     "output_type": "execute_result"
    }
   ],
   "source": [
    "training_data[0]['text'][360:371]"
   ]
  },
  {
   "cell_type": "code",
   "execution_count": 18,
   "id": "c834e84f-95b7-43b6-b009-9b9b1ca2b409",
   "metadata": {},
   "outputs": [],
   "source": [
    "import spacy\n",
    "from spacy.tokens import DocBin\n",
    "from tqdm import tqdm\n",
    "\n",
    "nlp = spacy.blank(\"en\")  # load a new spacy model\n",
    "doc_bin = DocBin()\n"
   ]
  },
  {
   "cell_type": "code",
   "execution_count": 19,
   "id": "06decb36-3777-4750-bd2b-7f508fc1e900",
   "metadata": {},
   "outputs": [
    {
     "name": "stderr",
     "output_type": "stream",
     "text": [
      "100%|█████████████████████████████████████████████████████████████████████████████████| 31/31 [00:00<00:00, 282.92it/s]\n"
     ]
    }
   ],
   "source": [
    "from spacy.util import filter_spans\n",
    "from spacy.tokens import Doc\n",
    "\n",
    "# Create a DocBin instance\n",
    "doc_bin = DocBin()\n",
    "\n",
    "# Iterate over training data\n",
    "for training_example in tqdm(training_data):\n",
    "    text = training_example['text']\n",
    "    labels = training_example['entities']\n",
    "\n",
    "    # Create a Doc object\n",
    "    doc = nlp.make_doc(text)\n",
    "\n",
    "    # Create spans for entities\n",
    "    ents = []\n",
    "    for start, end, label in labels:\n",
    "        span = doc.char_span(start, end, label=label, alignment_mode=\"contract\")\n",
    "        if span is not None:\n",
    "            ents.append(span)\n",
    "\n",
    "    # Filter and set entities in the Doc\n",
    "    filtered_ents = filter_spans(ents)\n",
    "    doc.ents = filtered_ents\n",
    "\n",
    "    # Add the Doc to DocBin\n",
    "    doc_bin.add(doc)\n",
    "\n",
    "# Save DocBin to disk\n",
    "doc_bin.to_disk(\"train.spacy\")\n"
   ]
  },
  {
   "cell_type": "code",
   "execution_count": null,
   "id": "4d55fafe-0127-41d1-96b0-1983f516f19b",
   "metadata": {},
   "outputs": [],
   "source": [
    "%%writefile base_config.cfg\n",
    "# This is an auto-generated partial config. To use it with 'spacy train'\n",
    "# you can run spacy init fill-config to auto-fill all default settings:\n",
    "# python -m spacy init fill-config ./base_config.cfg ./config.cfg\n",
    "[paths]\n",
    "train = null\n",
    "dev = null\n",
    "vectors = \"en_core_web_lg\"\n",
    "[system]\n",
    "gpu_allocator = null\n",
    "\n",
    "[nlp]\n",
    "lang = \"en\"\n",
    "pipeline = [\"tok2vec\",\"ner\"]\n",
    "batch_size = 1000\n",
    "\n",
    "[components]\n",
    "\n",
    "[components.tok2vec]\n",
    "factory = \"tok2vec\"\n",
    "\n",
    "[components.tok2vec.model]\n",
    "@architectures = \"spacy.Tok2Vec.v2\"\n",
    "\n",
    "[components.tok2vec.model.embed]\n",
    "@architectures = \"spacy.MultiHashEmbed.v2\"\n",
    "width = ${components.tok2vec.model.encode.width}\n",
    "attrs = [\"NORM\", \"PREFIX\", \"SUFFIX\", \"SHAPE\"]\n",
    "rows = [5000, 1000, 2500, 2500]\n",
    "include_static_vectors = true\n",
    "\n",
    "[components.tok2vec.model.encode]\n",
    "@architectures = \"spacy.MaxoutWindowEncoder.v2\"\n",
    "width = 256\n",
    "depth = 8\n",
    "window_size = 1\n",
    "maxout_pieces = 3\n",
    "\n",
    "[components.ner]\n",
    "factory = \"ner\"\n",
    "\n",
    "[components.ner.model]\n",
    "@architectures = \"spacy.TransitionBasedParser.v2\"\n",
    "state_type = \"ner\"\n",
    "extra_state_tokens = false\n",
    "hidden_width = 64\n",
    "maxout_pieces = 2\n",
    "use_upper = true\n",
    "nO = null\n",
    "\n",
    "[components.ner.model.tok2vec]\n",
    "@architectures = \"spacy.Tok2VecListener.v1\"\n",
    "width = ${components.tok2vec.model.encode.width}\n",
    "\n",
    "[corpora]\n",
    "\n",
    "[corpora.train]\n",
    "@readers = \"spacy.Corpus.v1\"\n",
    "path = ${paths.train}\n",
    "max_length = 0\n",
    "\n",
    "[corpora.dev]\n",
    "@readers = \"spacy.Corpus.v1\"\n",
    "path = ${paths.dev}\n",
    "max_length = 0\n",
    "\n",
    "[training]\n",
    "dev_corpus = \"corpora.dev\"\n",
    "train_corpus = \"corpora.train\"\n",
    "\n",
    "[training.optimizer]\n",
    "@optimizers = \"Adam.v1\"\n",
    "\n",
    "[training.batcher]\n",
    "@batchers = \"spacy.batch_by_words.v1\"\n",
    "discard_oversize = false\n",
    "tolerance = 0.2\n",
    "\n",
    "[training.batcher.size]\n",
    "@schedules = \"compounding.v1\"\n",
    "start = 100\n",
    "stop = 1000\n",
    "compound = 1.001\n",
    "\n",
    "[initialize]\n",
    "vectors = ${paths.vectors}\n"
   ]
  },
  {
   "cell_type": "code",
   "execution_count": 1,
   "id": "3216162e-8ad6-49fd-b6c6-f521c1daba18",
   "metadata": {},
   "outputs": [
    {
     "name": "stdout",
     "output_type": "stream",
     "text": [
      "\u001b[38;5;2m[+] Auto-filled config with all values\u001b[0m\n",
      "\u001b[38;5;2m[+] Saved config\u001b[0m\n",
      "config.cfg\n",
      "You can now add your data and train your pipeline:\n",
      "python -m spacy train config.cfg --paths.train ./train.spacy --paths.dev ./dev.spacy\n"
     ]
    }
   ],
   "source": [
    "!python -m spacy init fill-config base_config.cfg config.cfg"
   ]
  },
  {
   "cell_type": "code",
   "execution_count": null,
   "id": "d6918466-a074-46d1-bc0c-e134ccc9ae5a",
   "metadata": {},
   "outputs": [],
   "source": [
    "!python -m spacy train config.cfg --output \"C:/Users/Akshitha/OneDrive/NLP/output_model\" --paths.train ./train.spacy --paths.dev ./train.spacy"
   ]
  },
  {
   "cell_type": "code",
   "execution_count": null,
   "id": "099dfe23-b1e9-4a0e-ac3a-04ad5e0070a2",
   "metadata": {},
   "outputs": [],
   "source": [
    "nlp_ner = spacy.load(\"model-best\")"
   ]
  },
  {
   "cell_type": "code",
   "execution_count": null,
   "id": "3e4c41a6-9054-436c-81f9-000886796d73",
   "metadata": {},
   "outputs": [],
   "source": []
  }
 ],
 "metadata": {
  "kernelspec": {
   "display_name": "Python 3 (ipykernel)",
   "language": "python",
   "name": "python3"
  },
  "language_info": {
   "codemirror_mode": {
    "name": "ipython",
    "version": 3
   },
   "file_extension": ".py",
   "mimetype": "text/x-python",
   "name": "python",
   "nbconvert_exporter": "python",
   "pygments_lexer": "ipython3",
   "version": "3.11.5"
  }
 },
 "nbformat": 4,
 "nbformat_minor": 5
}
